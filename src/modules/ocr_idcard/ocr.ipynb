{
  "cells": [
    {
      "cell_type": "code",
      "execution_count": 2,
      "metadata": {
        "id": "ESRhQw11qklR"
      },
      "outputs": [],
      "source": [
        "from ultralytics import YOLO\n",
        "import os\n",
        "import torch\n",
        "import shutil\n",
        "import numpy as np\n",
        "import logging\n",
        "\n",
        "%matplotlib inline\n",
        "import matplotlib.pyplot as plt\n",
        "import matplotlib.image as mpimg\n",
        "import matplotlib\n",
        "matplotlib.use('Agg')\n",
        "import cv2\n"
      ]
    },
    {
      "cell_type": "code",
      "execution_count": 4,
      "metadata": {},
      "outputs": [
        {
          "name": "stdout",
          "output_type": "stream",
          "text": [
            "c:\\Users\\UUN6HC\\Desktop\\CV_Project\\src\\modules\\fields_recognition\n"
          ]
        }
      ],
      "source": [
        "%cd ../fields_recognition/\n",
        "\n",
        "from detector import FieldDetector"
      ]
    },
    {
      "cell_type": "code",
      "execution_count": 9,
      "metadata": {
        "id": "hGQzDys9qMGB"
      },
      "outputs": [],
      "source": [
        "FIELD_MODEL_PATH = 'field_model_v2.1.pt'"
      ]
    },
    {
      "cell_type": "code",
      "execution_count": 11,
      "metadata": {
        "colab": {
          "base_uri": "https://localhost:8080/"
        },
        "id": "8XUgtPk-qUAw",
        "outputId": "7ad2d1cf-e536-4e3e-a171-3a9d80dec635"
      },
      "outputs": [
        {
          "name": "stdout",
          "output_type": "stream",
          "text": [
            "Model summary: 225 layers, 3,012,603 parameters, 0 gradients, 8.2 GFLOPs\n"
          ]
        }
      ],
      "source": [
        "field_detector = FieldDetector(FIELD_MODEL_PATH, verbose=True)"
      ]
    },
    {
      "cell_type": "code",
      "execution_count": 21,
      "metadata": {
        "id": "kIjsKORTtTjQ"
      },
      "outputs": [],
      "source": [
        "image_test_path = './drive/MyDrive/Models/1.png'\n",
        "image_test = cv2.imread(image_test_path)\n"
      ]
    },
    {
      "cell_type": "code",
      "execution_count": 29,
      "metadata": {
        "id": "QNfi_NYhwSca"
      },
      "outputs": [],
      "source": [
        "results = field_detector.predict(image_test)"
      ]
    },
    {
      "cell_type": "code",
      "execution_count": 31,
      "metadata": {
        "colab": {
          "base_uri": "https://localhost:8080/"
        },
        "id": "lUdy_Snuwc_H",
        "outputId": "d046ab41-38ec-458d-feaf-aff6cca07089"
      },
      "outputs": [
        {
          "data": {
            "text/plain": [
              "tensor([[308.6570, 236.1857, 608.1286, 295.5870],\n",
              "        [648.5156,  26.3349, 770.2887, 168.7239],\n",
              "        [464.6989, 367.3206, 624.6954, 409.0320],\n",
              "        [372.4669, 403.4309, 450.2058, 449.4520],\n",
              "        [655.4231, 399.5593, 787.8209, 454.0047],\n",
              "        [226.7928, 324.5647, 598.9965, 369.6082],\n",
              "        [552.5548, 520.6442, 763.8502, 561.8920],\n",
              "        [112.6032, 536.8857, 229.0894, 575.4449],\n",
              "        [230.0005, 477.3252, 665.4048, 515.4387],\n",
              "        [236.8390, 555.1035, 664.4952, 598.7179]])"
            ]
          },
          "execution_count": 31,
          "metadata": {},
          "output_type": "execute_result"
        }
      ],
      "source": [
        "results[0].boxes.xyxy"
      ]
    }
  ],
  "metadata": {
    "accelerator": "GPU",
    "colab": {
      "gpuType": "T4",
      "provenance": []
    },
    "kernelspec": {
      "display_name": "Python 3",
      "name": "python3"
    },
    "language_info": {
      "codemirror_mode": {
        "name": "ipython",
        "version": 3
      },
      "file_extension": ".py",
      "mimetype": "text/x-python",
      "name": "python",
      "nbconvert_exporter": "python",
      "pygments_lexer": "ipython3",
      "version": "3.9.13"
    }
  },
  "nbformat": 4,
  "nbformat_minor": 0
}
